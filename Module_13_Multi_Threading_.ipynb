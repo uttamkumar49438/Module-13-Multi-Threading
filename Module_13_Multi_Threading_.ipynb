{
  "nbformat": 4,
  "nbformat_minor": 0,
  "metadata": {
    "colab": {
      "provenance": []
    },
    "kernelspec": {
      "name": "python3",
      "display_name": "Python 3"
    },
    "language_info": {
      "name": "python"
    }
  },
  "cells": [
    {
      "cell_type": "markdown",
      "source": [
        "1) What is multithreading in python? Why is it used? Name the module used to handle threads in python"
      ],
      "metadata": {
        "id": "rxU9hKfBInRr"
      }
    },
    {
      "cell_type": "markdown",
      "source": [
        "Multithreading in Python refers to the ability of a program to execute multiple threads concurrently within a single process. Each thread represents a separate flow of control within the same program, allowing for parallel execution of tasks.\n",
        "\n",
        "The primary module used to handle threads in Python is the threading module."
      ],
      "metadata": {
        "id": "8LZ_jou8JTuk"
      }
    },
    {
      "cell_type": "markdown",
      "source": [
        "2) Why threading module used? Write the use of the following functions?\n",
        "( activeCount()\n",
        " currentThread()\n",
        " enumerate())"
      ],
      "metadata": {
        "id": "lfBVF9UKIttZ"
      }
    },
    {
      "cell_type": "markdown",
      "source": [
        "\n",
        "= The threading module in Python is used for working with threads, allowing developers to create, start, join, and manage threads within a Python program.\n",
        "\n",
        " - activeCount(): This function returns the number of Thread objects that are currently active (i.e., alive).\n",
        " - currentThread(): This function returns a reference to the current Thread object, representing the thread from which it is called.\n",
        " - enumerate(): This function returns a list of all Thread objects that are currently alive. It provides a way to obtain references to all active threads in the program\n"
      ],
      "metadata": {
        "id": "mz2P7zTSJm_k"
      }
    },
    {
      "cell_type": "markdown",
      "source": [
        "3)Explain the following functions\n",
        "( run()\n",
        " start()\n",
        " join()\n",
        "' isAlive())"
      ],
      "metadata": {
        "id": "9wlcolttI3uq"
      }
    },
    {
      "cell_type": "markdown",
      "source": [
        ":run(): This function is part of the Thread class and represents the entry point for the thread's activity. It defines the code that will be executed when the thread is started.\n",
        "\n",
        ":start(): This function is used to start the execution of the thread. When you create a Thread object and want to begin its execution, you call the start() method on the thread object.\n",
        "\n",
        ":join(): This function is used to wait for the thread to complete its execution. When you call the join() method on a Thread object, the calling thread (typically the main thread) will wait until the specified thread completes its execution.\n",
        "\n",
        ": isAlive(): This function is used to check whether the thread is currently alive (i.e., actively executing). When you call the isAlive() method on a Thread object, it returns True."
      ],
      "metadata": {
        "id": "b-4EcVamLHvJ"
      }
    },
    {
      "cell_type": "code",
      "source": [],
      "metadata": {
        "id": "Zln1ECM2MhWw"
      },
      "execution_count": null,
      "outputs": []
    },
    {
      "cell_type": "markdown",
      "source": [
        "4. Write a python program to create two threads. Thread one must print the list of squares and thread\n",
        "two must print the list of cubes"
      ],
      "metadata": {
        "id": "_ahgg93xJC2b"
      }
    },
    {
      "cell_type": "code",
      "source": [
        "import threading\n",
        "\n",
        "def print_squares():\n",
        "    for i in range(1, 6):\n",
        "        print(f\"Square of {i}: {i*i}\")\n",
        "\n",
        "def print_cubes():\n",
        "    for i in range(1, 6):\n",
        "        print(f\"Cube of {i}: {i*i*i}\")\n",
        "\n",
        "# Create thread one\n",
        "thread1 = threading.Thread(target=print_squares)\n",
        "\n",
        "# Create thread two\n",
        "thread2 = threading.Thread(target=print_cubes)\n",
        "\n",
        "# Start both threads\n",
        "thread1.start()\n",
        "thread2.start()\n",
        "\n",
        "# Wait for both threads to finish\n",
        "thread1.join()\n",
        "thread2.join()\n",
        "\n",
        "print(\"Both threads have finished execution.\")"
      ],
      "metadata": {
        "id": "J_MoNLVKMjPo"
      },
      "execution_count": null,
      "outputs": []
    },
    {
      "cell_type": "markdown",
      "source": [
        "5. State advantages and disadvantages of multithreading."
      ],
      "metadata": {
        "id": "c1w-zkL1JJBl"
      }
    },
    {
      "cell_type": "markdown",
      "source": [
        "Advantages:\n",
        " - Parallelism\n",
        " - Improved Responsiveness\n",
        " -  Resource Sharing\n",
        "\n",
        " Disadvantages:\n",
        "-Complexity\n",
        "-Synchronization Overhead\n",
        "-Concurrency Issues"
      ],
      "metadata": {
        "id": "DVIzmMLHMc_a"
      }
    },
    {
      "cell_type": "markdown",
      "source": [
        "6. Explain deadlocks and race conditions."
      ],
      "metadata": {
        "id": "_NFxfoBBJKG8"
      }
    },
    {
      "cell_type": "markdown",
      "source": [
        "A deadlock occurs in a multithreaded or multiprocessing environment when two or more threads or processes are unable to proceed with their execution because each is waiting for the other to release a resource that it needs\n",
        "A race condition occurs in a multithreaded or multiprocessing environment when the outcome of a program depends on the relative timing or interleaving of operations performed by multiple threads or processes\n"
      ],
      "metadata": {
        "id": "AcziTcoHNOSq"
      }
    }
  ]
}